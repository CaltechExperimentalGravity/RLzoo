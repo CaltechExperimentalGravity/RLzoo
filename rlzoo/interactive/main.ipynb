{
 "cells": [
  {
   "cell_type": "code",
   "execution_count": null,
   "metadata": {},
   "outputs": [],
   "source": [
    "# run a environment selector and select a environment you like\n",
    "# tips: no need to rerun\n",
    "from rlzoo.interactive.common import *\n",
    "from rlzoo.interactive.components import *\n",
    "env_sel = EnvironmentSelector()\n",
    "display(env_sel)"
   ]
  },
  {
   "cell_type": "code",
   "execution_count": null,
   "metadata": {},
   "outputs": [],
   "source": [
    "# run this code to create the enivronment instance\n",
    "# tips: need to rerun every time you want to create a new environment\n",
    "try:\n",
    "    env.close()  # close the previous environment\n",
    "except:\n",
    "    pass\n",
    "env = build_env(**env_sel.value)\n",
    "print('Environment created!')\n",
    "display(EnvInfoViewer(env))\n",
    "\n",
    "# run a algorithm selector and select a RL algorithm\n",
    "alog_sel = AlgorithmSelector(env)\n",
    "display(alog_sel)"
   ]
  },
  {
   "cell_type": "code",
   "execution_count": null,
   "metadata": {},
   "outputs": [],
   "source": [
    "# call the default parameters of this algorithm in our environment\n",
    "# tips: need to rerun after you created a different algorithm or environment\n",
    "EnvType, AlgName = env_sel.value['env_type'], alog_sel.value\n",
    "alg_params, learn_params = call_default_params(env, EnvType, AlgName)\n",
    "print('Default parameters loaded!')\n",
    "\n",
    "# see the networks, optimizers and adjust other parameters\n",
    "algiv = AlgoInfoViewer(alog_sel, alg_params, learn_params)\n",
    "display(algiv)\n",
    "\n",
    "# run this to generate the algorithm instance with the algorithm parameter settings above\n",
    "alg_params = algiv.alg_params\n",
    "alg = eval(AlgName+'(**alg_params)')\n",
    "print('Algorithm instance created!')"
   ]
  },
  {
   "cell_type": "code",
   "execution_count": null,
   "metadata": {},
   "outputs": [],
   "source": [
    "# run the following code to train the algorithm with the learn function parameter settings above\n",
    "learn_params = algiv.learn_params\n",
    "om = OutputMonitor(learn_params, smooth_factor=algiv.smooth_factor)\n",
    "display(om)\n",
    "with om.print_out:\n",
    "    alg.learn(env=env, plot_func=om.plot_func, **learn_params)"
   ]
  },
  {
   "cell_type": "code",
   "execution_count": null,
   "metadata": {},
   "outputs": [],
   "source": [
    "# whenever leaving the page, please close the environment by the way\n",
    "env.close()\n",
    "print('Environment closed')"
   ]
  }
 ],
 "metadata": {
  "kernelspec": {
   "display_name": "Python 3",
   "language": "python",
   "name": "python3"
  },
  "language_info": {
   "codemirror_mode": {
    "name": "ipython",
    "version": 3
   },
   "file_extension": ".py",
   "mimetype": "text/x-python",
   "name": "python",
   "nbconvert_exporter": "python",
   "pygments_lexer": "ipython3",
   "version": "3.6.10"
  }
 },
 "nbformat": 4,
 "nbformat_minor": 4
}
