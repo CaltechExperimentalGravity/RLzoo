{
 "cells": [
  {
   "cell_type": "code",
   "execution_count": 1,
   "metadata": {},
   "outputs": [
    {
     "data": {
      "application/vnd.jupyter.widget-view+json": {
       "model_id": "b3907a9bfccd487199b9e294de9f0099",
       "version_major": 2,
       "version_minor": 0
      },
      "text/plain": [
       "VBox(children=(HTML(value='<font size=4>Environment Selector'), HBox(children=(VBox(children=(Label(value='Cho…"
      ]
     },
     "metadata": {},
     "output_type": "display_data"
    }
   ],
   "source": [
    "# run a environment selector and select a environment you like\n",
    "from rlzoo.interactive.common import *\n",
    "from rlzoo.interactive.components import *\n",
    "env_sel = EnvironmentSelector()\n",
    "display(env_sel.frame)"
   ]
  },
  {
   "cell_type": "code",
   "execution_count": 2,
   "metadata": {},
   "outputs": [
    {
     "name": "stdout",
     "output_type": "stream",
     "text": [
      "Env ID AirRaid-v0 Exists!\n",
      "Environment created!\n"
     ]
    }
   ],
   "source": [
    "# run this code to create the enivronment instance\n",
    "try:\n",
    "    env.close()\n",
    "except:\n",
    "    pass\n",
    "env = build_env(**env_sel.value)\n",
    "print('Environment created!')"
   ]
  },
  {
   "cell_type": "code",
   "execution_count": 3,
   "metadata": {},
   "outputs": [
    {
     "data": {
      "application/vnd.jupyter.widget-view+json": {
       "model_id": "9c2eee5d6cf540cd8af0fc1c3d15ac4b",
       "version_major": 2,
       "version_minor": 0
      },
      "text/plain": [
       "VBox(children=(HTML(value='<font size=4>Environment Informations'), GridBox(children=(Label(value='Environment…"
      ]
     },
     "metadata": {},
     "output_type": "display_data"
    }
   ],
   "source": [
    "# here you can see the environment informations\n",
    "display(EnvInfoViewer(env).frame)"
   ]
  },
  {
   "cell_type": "code",
   "execution_count": 4,
   "metadata": {},
   "outputs": [
    {
     "data": {
      "application/vnd.jupyter.widget-view+json": {
       "model_id": "0da7eb9dfe57492a9b5b4d5f4b2e8701",
       "version_major": 2,
       "version_minor": 0
      },
      "text/plain": [
       "VBox(children=(HTML(value='<font size=4>Algorithm Selector'), Label(value='Supported algorithms are shown belo…"
      ]
     },
     "metadata": {},
     "output_type": "display_data"
    }
   ],
   "source": [
    "# run a algorithm selector and select a RL algorithm\n",
    "alog_sel = AlgorithmSelector(env)\n",
    "display(alog_sel.frame)"
   ]
  },
  {
   "cell_type": "code",
   "execution_count": 9,
   "metadata": {},
   "outputs": [
    {
     "name": "stdout",
     "output_type": "stream",
     "text": [
      "[TL] Input  _inputlayer_3: (1, 84, 84, 4)\n",
      "[TL] Conv2d conv2d_7: n_filter: 32 filter_size: (8, 8) strides: (4, 4) pad: VALID act: relu\n",
      "[TL] Conv2d conv2d_8: n_filter: 64 filter_size: (4, 4) strides: (2, 2) pad: VALID act: relu\n",
      "[TL] Conv2d conv2d_9: n_filter: 64 filter_size: (3, 3) strides: (1, 1) pad: VALID act: relu\n",
      "[TL] Flatten flatten_3:\n",
      "[TL] Dense  hidden_layer1: 64 relu\n",
      "[TL] Dense  hidden_layer2: 64 relu\n",
      "[TL] Dense  dense_3: 1 No Activation\n",
      "[TL] Input  _inputlayer_4: (1, 84, 84, 4)\n",
      "[TL] Conv2d conv2d_10: n_filter: 32 filter_size: (8, 8) strides: (4, 4) pad: VALID act: relu\n",
      "[TL] Conv2d conv2d_11: n_filter: 64 filter_size: (4, 4) strides: (2, 2) pad: VALID act: relu\n",
      "[TL] Conv2d conv2d_12: n_filter: 64 filter_size: (3, 3) strides: (1, 1) pad: VALID act: relu\n",
      "[TL] Flatten flatten_4:\n",
      "[TL] Dense  hidden_layer1: 64 relu\n",
      "[TL] Dense  hidden_layer2: 64 relu\n",
      "[TL] Dense  dense_4: 6 tanh\n",
      "Default parameters loaded!\n"
     ]
    }
   ],
   "source": [
    "# call the default parameters of this algorithm in our environment\n",
    "EnvType, AlgName = env_sel.value['env_type'], alog_sel.value\n",
    "alg_params, learn_params = call_default_params(env, EnvType, AlgName)\n",
    "print('Default parameters loaded!')"
   ]
  },
  {
   "cell_type": "code",
   "execution_count": 6,
   "metadata": {},
   "outputs": [
    {
     "data": {
      "application/vnd.jupyter.widget-view+json": {
       "model_id": "da45677366004bf2bcb27ea2f1d89817",
       "version_major": 2,
       "version_minor": 0
      },
      "text/plain": [
       "VBox(children=(VBox(children=(HTML(value='<font size=4>Algorithm Parameters'), GridBox(children=(Label(value='…"
      ]
     },
     "metadata": {},
     "output_type": "display_data"
    }
   ],
   "source": [
    "# see the networks, optimizers and adjust other parameters\n",
    "algiv = AlgoInfoViewer(alg_params, learn_params)\n",
    "display(algiv.frame)"
   ]
  },
  {
   "cell_type": "code",
   "execution_count": 8,
   "metadata": {},
   "outputs": [
    {
     "name": "stdout",
     "output_type": "stream",
     "text": [
      "Algorithm instance created!\n"
     ]
    }
   ],
   "source": [
    "# run this to generate the algorithm instance with the algorithm parameter settings above\n",
    "alg_params = algiv.alg_params\n",
    "alg = eval(AlgName+'(**alg_params)')\n",
    "print('Algorithm instance created!')"
   ]
  },
  {
   "cell_type": "code",
   "execution_count": null,
   "metadata": {},
   "outputs": [
    {
     "name": "stdout",
     "output_type": "stream",
     "text": [
      "Training...  | Algorithm: AC  | Environment: AirRaid-v0\n"
     ]
    }
   ],
   "source": [
    "# run this to train the algorithm with the learn function parameter settings above\n",
    "# \n",
    "learn_params = algiv.learn_params\n",
    "alg.learn(env=env, **learn_params)"
   ]
  },
  {
   "cell_type": "code",
   "execution_count": 13,
   "metadata": {},
   "outputs": [
    {
     "name": "stdout",
     "output_type": "stream",
     "text": [
      "Environment closed\n"
     ]
    }
   ],
   "source": [
    "# whenever leaving the page, please close the environment by the way\n",
    "env.close()\n",
    "print('Environment closed')"
   ]
  },
  {
   "cell_type": "code",
   "execution_count": null,
   "metadata": {},
   "outputs": [],
   "source": []
  }
 ],
 "metadata": {
  "kernelspec": {
   "display_name": "Python 3",
   "language": "python",
   "name": "python3"
  },
  "language_info": {
   "codemirror_mode": {
    "name": "ipython",
    "version": 3
   },
   "file_extension": ".py",
   "mimetype": "text/x-python",
   "name": "python",
   "nbconvert_exporter": "python",
   "pygments_lexer": "ipython3",
   "version": "3.6.10"
  }
 },
 "nbformat": 4,
 "nbformat_minor": 1
}
