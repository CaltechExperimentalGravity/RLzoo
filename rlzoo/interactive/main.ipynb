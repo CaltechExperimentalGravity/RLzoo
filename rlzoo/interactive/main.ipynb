{
 "cells": [
  {
   "cell_type": "markdown",
   "metadata": {},
   "source": [
    "# Interactive Hyper-parameter Configuration\n",
    "This is a use case provided by RLzoo to support an interactive hyper-parameter configuration process. It is built with *ipywidgets* package, so make sure you have the package installed:\n",
    "\n",
    "```! pip3 install ipywidgets==7.5.1```\n",
    "\n",
    "You just need to **run** each cell (Shift+Enter) and **select** the sliders or dropdown lists to configure the hyper-parameters for the learning process, for whichever algorithm and environment supported in RLzoo. \n",
    "\n",
    "It follows four steps:\n",
    "1. Environment Configuration\n",
    "2. Environment Information Display and Algorithm Configuration\n",
    "3. Algorithm Parameters Display and Learning Parameters Configuration\n",
    "4. Launch Learning with Visualization \n",
    "\n",
    "Tips:\n",
    "To stop the learning process and start a new one, you needs to restart the kernel (always work) or interrupt the kernel (not always work). \n",
    "\n",
    "Have fun!"
   ]
  },
  {
   "cell_type": "code",
   "execution_count": 1,
   "metadata": {},
   "outputs": [
    {
     "data": {
      "application/vnd.jupyter.widget-view+json": {
       "model_id": "9933891add49472192fefe2beffee791",
       "version_major": 2,
       "version_minor": 0
      },
      "text/plain": [
       "EnvironmentSelector(children=(HTML(value='<font size=4><B>Environment Selector</B>'), HBox(children=(VBox(chil…"
      ]
     },
     "metadata": {},
     "output_type": "display_data"
    }
   ],
   "source": [
    "\"\"\"\n",
    "1. Environment Configuration\n",
    "-----------------------------\n",
    "Run a environment selector and select a environment you like.\n",
    "\n",
    "Tips: no need to rerun after selection, directly go to next cell.\n",
    "\"\"\"\n",
    "\n",
    "from rlzoo.interactive.common import *\n",
    "from rlzoo.interactive.components import *\n",
    "from rlzoo.algorithms import *\n",
    "from rlzoo.common.env_wrappers import build_env, close_env\n",
    "env_sel = EnvironmentSelector()\n",
    "display(env_sel)"
   ]
  },
  {
   "cell_type": "code",
   "execution_count": 2,
   "metadata": {},
   "outputs": [
    {
     "name": "stdout",
     "output_type": "stream",
     "text": [
      "Env ID Pendulum-v0 Exists!\n",
      "Environment created!\n"
     ]
    },
    {
     "data": {
      "application/vnd.jupyter.widget-view+json": {
       "model_id": "81917675829745a385626e991e7412ca",
       "version_major": 2,
       "version_minor": 0
      },
      "text/plain": [
       "EnvInfoViewer(children=(HTML(value='<font size=4><B>Environment Information</B>'), GridBox(children=(Label(val…"
      ]
     },
     "metadata": {},
     "output_type": "display_data"
    },
    {
     "data": {
      "application/vnd.jupyter.widget-view+json": {
       "model_id": "dfe2b2b545f44bd5862e5a42e06238ea",
       "version_major": 2,
       "version_minor": 0
      },
      "text/plain": [
       "AlgorithmSelector(children=(HTML(value='<font size=4><B>Algorithm Selector</B>'), Label(value='Supported algor…"
      ]
     },
     "metadata": {},
     "output_type": "display_data"
    }
   ],
   "source": [
    "\"\"\"\n",
    "2. Environment Information Display and Algorithm Configuration\n",
    "--------------------------------------------------------------\n",
    "Run this code to create the enivronment instance.\n",
    "\n",
    "Tips: need to rerun every time you want to create a new environment with above cell, \\\n",
    "because this cell builds the environment.\n",
    "\"\"\"\n",
    "\n",
    "try:\n",
    "    close_env(env)  # close the previous environment\n",
    "except:\n",
    "    pass\n",
    "env = build_env(**env_sel.value)\n",
    "print('Environment created!')\n",
    "display(EnvInfoViewer(env))\n",
    "\n",
    "# run a algorithm selector and select a RL algorithm\n",
    "alog_sel = AlgorithmSelector(env)\n",
    "display(alog_sel)"
   ]
  },
  {
   "cell_type": "code",
   "execution_count": 3,
   "metadata": {},
   "outputs": [
    {
     "name": "stdout",
     "output_type": "stream",
     "text": [
      "[TL] Input  input_layer: (None, 3)\n",
      "[TL] Input  Act_Input_Layer: (None, 1)\n",
      "[TL] Concat concat_1: concat_dim: -1\n",
      "[TL] Dense  mlp_hidden_layer1: 64 relu\n",
      "[TL] Dense  mlp_hidden_layer2: 64 relu\n",
      "[TL] Dense  dense_1: 1 No Activation\n",
      "[TL] Input  input_layer: (None, 3)\n",
      "[TL] Input  Act_Input_Layer: (None, 1)\n",
      "[TL] Concat concat_2: concat_dim: -1\n",
      "[TL] Dense  mlp_hidden_layer1: 64 relu\n",
      "[TL] Dense  mlp_hidden_layer2: 64 relu\n",
      "[TL] Dense  dense_2: 1 No Activation\n",
      "[TL] Input  input_layer: (None, 3)\n",
      "[TL] Input  Act_Input_Layer: (None, 1)\n",
      "[TL] Concat concat_3: concat_dim: -1\n",
      "[TL] Dense  mlp_hidden_layer1: 64 relu\n",
      "[TL] Dense  mlp_hidden_layer2: 64 relu\n",
      "[TL] Dense  dense_3: 1 No Activation\n",
      "[TL] Input  input_layer: (None, 3)\n",
      "[TL] Input  Act_Input_Layer: (None, 1)\n",
      "[TL] Concat concat_4: concat_dim: -1\n",
      "[TL] Dense  mlp_hidden_layer1: 64 relu\n",
      "[TL] Dense  mlp_hidden_layer2: 64 relu\n",
      "[TL] Dense  dense_4: 1 No Activation\n",
      "[TL] Input  input_layer: (None, 3)\n",
      "[TL] Dense  hidden_layer1: 64 relu\n",
      "[TL] Dense  hidden_layer2: 64 relu\n",
      "[TL] Dense  dense_5: 1 tanh\n",
      "[TL] Dense  dense_6: 1 No Activation\n",
      "[TL] Lambda  lambda_1: func: <function StochasticPolicyNetwork.__init__.<locals>.<lambda> at 0x7f8dfc884488>, len_weights: 0\n",
      "Default parameters loaded!\n"
     ]
    },
    {
     "data": {
      "application/vnd.jupyter.widget-view+json": {
       "model_id": "44847bc8c3f94a14be74744dfd389103",
       "version_major": 2,
       "version_minor": 0
      },
      "text/plain": [
       "AlgoInfoViewer(children=(VBox(children=(HTML(value='<font size=4><B>Algorithm Parameters</B>'), GridBox(childr…"
      ]
     },
     "metadata": {},
     "output_type": "display_data"
    },
    {
     "name": "stdout",
     "output_type": "stream",
     "text": [
      "Soft Q Network (1,2):  qnetwork(\n",
      "  (input_layer): Input(shape=(None, 3), name='input_layer')\n",
      "  (Act_Input_Layer): Input(shape=(None, 1), name='Act_Input_Layer')\n",
      "  (concat_1): Concat(concat_dim=-1)\n",
      "  (mlp_hidden_layer1): Dense(n_units=64, relu, in_channels='4', name='mlp_hidden_layer1')\n",
      "  (mlp_hidden_layer2): Dense(n_units=64, relu, in_channels='64', name='mlp_hidden_layer2')\n",
      "  (dense_1): Dense(n_units=1, No Activation, in_channels='64', name='dense_1')\n",
      ")\n",
      "Policy Network:  stochasticpolicynetwork(\n",
      "  (input_layer): Input(shape=(None, 3), name='input_layer')\n",
      "  (hidden_layer1): Dense(n_units=64, relu, in_channels='3', name='hidden_layer1')\n",
      "  (hidden_layer2): Dense(n_units=64, relu, in_channels='64', name='hidden_layer2')\n",
      "  (dense_5): Dense(n_units=1, tanh, in_channels='64', name='dense_5')\n",
      "  (dense_6): Dense(n_units=1, No Activation, in_channels='64', name='dense_6')\n",
      "  (lambda_1): Lambda(fn=<function StochasticPolicyNetwork.__init__.<locals>.<lambda> at 0x7f8dfc884488>,len_weights=0,name='lambda_1')\n",
      ")\n",
      "Algorithm instance created!\n"
     ]
    }
   ],
   "source": [
    "\"\"\"\n",
    "3. Algorithm Parameters Display and Learning Parameters Configuration\n",
    "----------------------------------------------------------------------\n",
    "Call the default parameters of the selected algorithm in our environment and display them, \\\n",
    "then select learning parameters.\n",
    "\n",
    "Tips: need to rerun after you created a different algorithm or environment.\n",
    "\"\"\"\n",
    "\n",
    "EnvType, AlgName = env_sel.value['env_type'], alog_sel.value\n",
    "alg_params, learn_params = call_default_params(env, EnvType, AlgName)\n",
    "print('Default parameters loaded!')\n",
    "\n",
    "# see the networks, optimizers and adjust other parameters\n",
    "algiv = AlgoInfoViewer(alog_sel, alg_params, learn_params)\n",
    "display(algiv)\n",
    "\n",
    "# run this to generate the algorithm instance with the algorithm parameter settings above\n",
    "alg_params = algiv.alg_params\n",
    "alg = eval(AlgName+'(**alg_params)')\n",
    "print('Algorithm instance created!')"
   ]
  },
  {
   "cell_type": "code",
   "execution_count": 4,
   "metadata": {},
   "outputs": [
    {
     "data": {
      "application/vnd.jupyter.widget-view+json": {
       "model_id": "5cb904dd4c6547949604c0766fa33930",
       "version_major": 2,
       "version_minor": 0
      },
      "text/plain": [
       "OutputMonitor(children=(VBox(children=(VBox(children=(Label(value='Learning curve'), Output(layout=Layout(heig…"
      ]
     },
     "metadata": {},
     "output_type": "display_data"
    }
   ],
   "source": [
    "\"\"\"\n",
    "4. Launch Learning with Visualization \n",
    "---------------------------------------\n",
    "Run the cell to train the algorithm with the configurations above.\n",
    "\"\"\"\n",
    "\n",
    "learn_params = algiv.learn_params\n",
    "om = OutputMonitor(learn_params, smooth_factor=algiv.smooth_factor)\n",
    "display(om)\n",
    "with om.print_out:\n",
    "    alg.learn(env=env, plot_func=om.plot_func, **learn_params)"
   ]
  },
  {
   "cell_type": "code",
   "execution_count": 5,
   "metadata": {},
   "outputs": [
    {
     "name": "stdout",
     "output_type": "stream",
     "text": [
      "Environment closed\n"
     ]
    }
   ],
   "source": [
    "# whenever leaving the page, please close the environment by the way\n",
    "close_env(env)\n",
    "print('Environment closed')"
   ]
  },
  {
   "cell_type": "code",
   "execution_count": null,
   "metadata": {},
   "outputs": [],
   "source": []
  }
 ],
 "metadata": {
  "kernelspec": {
   "display_name": "Python 3",
   "language": "python",
   "name": "python3"
  },
  "language_info": {
   "codemirror_mode": {
    "name": "ipython",
    "version": 3
   },
   "file_extension": ".py",
   "mimetype": "text/x-python",
   "name": "python",
   "nbconvert_exporter": "python",
   "pygments_lexer": "ipython3",
   "version": "3.6.10"
  }
 },
 "nbformat": 4,
 "nbformat_minor": 4
}
